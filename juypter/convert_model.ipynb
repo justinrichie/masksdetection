{
 "cells": [
  {
   "cell_type": "code",
   "execution_count": 4,
   "metadata": {},
   "outputs": [
    {
     "ename": "SyntaxError",
     "evalue": "invalid syntax (557242958.py, line 1)",
     "output_type": "error",
     "traceback": [
      "\u001b[1;36m  Input \u001b[1;32mIn [4]\u001b[1;36m\u001b[0m\n\u001b[1;33m    tensorflowjs_converter --input_format=keras C:/Users/Justin Richie/OneDrive/Documents/GitHub/maskdetection/model/mask_model.h5 C:/Users/Justin Richie/OneDrive/Documents/GitHub/maskdetection/model/\u001b[0m\n\u001b[1;37m                                                ^\u001b[0m\n\u001b[1;31mSyntaxError\u001b[0m\u001b[1;31m:\u001b[0m invalid syntax\n"
     ]
    }
   ],
   "source": [
    "tensorflowjs_converter --input_format=keras C:/Users/Justin Richie/OneDrive/Documents/GitHub/maskdetection/model/mask_model.h5 C:/Users/Justin Richie/OneDrive/Documents/GitHub/maskdetection/model/"
   ]
  }
 ],
 "metadata": {
  "kernelspec": {
   "display_name": "Python 3.8.10 64-bit",
   "language": "python",
   "name": "python3"
  },
  "language_info": {
   "codemirror_mode": {
    "name": "ipython",
    "version": 3
   },
   "file_extension": ".py",
   "mimetype": "text/x-python",
   "name": "python",
   "nbconvert_exporter": "python",
   "pygments_lexer": "ipython3",
   "version": "3.8.10"
  },
  "orig_nbformat": 4,
  "vscode": {
   "interpreter": {
    "hash": "53687a507d329d505a5e4c38a17d90b8cc9227b38df3e4b4c3fa393e6d312256"
   }
  }
 },
 "nbformat": 4,
 "nbformat_minor": 2
}
